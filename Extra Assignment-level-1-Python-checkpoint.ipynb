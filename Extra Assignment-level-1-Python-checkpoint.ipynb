{
 "cells": [
  {
   "cell_type": "code",
   "execution_count": 1,
   "id": "0df783e0-835e-4f14-8cf5-d92cab2a80d9",
   "metadata": {},
   "outputs": [
    {
     "name": "stdout",
     "output_type": "stream",
     "text": [
      "Hope AI\n"
     ]
    }
   ],
   "source": [
    "#print statement-HOPE AI\n",
    "print(\"Hope AI\")"
   ]
  },
  {
   "cell_type": "code",
   "execution_count": 2,
   "id": "a6351491-9fec-4664-9080-85fbd3eaee7f",
   "metadata": {},
   "outputs": [
    {
     "name": "stdout",
     "output_type": "stream",
     "text": [
      "Hope AI\n"
     ]
    }
   ],
   "source": [
    "#another method\n",
    "String=\"Hope AI\"\n",
    "print(String)"
   ]
  },
  {
   "cell_type": "code",
   "execution_count": 9,
   "id": "b29134d2-80f9-4d7c-bc57-9cc2821f212c",
   "metadata": {},
   "outputs": [
    {
     "name": "stdin",
     "output_type": "stream",
     "text": [
      "Enter your Institute name: HOPE AI\n"
     ]
    },
    {
     "name": "stdout",
     "output_type": "stream",
     "text": [
      "Enter your institute name?: HOPE AI\n"
     ]
    }
   ],
   "source": [
    "#Buy input\n",
    "name=input(\"Enter your Institute name:\")\n",
    "print(\"Enter your institute name?:\",name)"
   ]
  },
  {
   "cell_type": "code",
   "execution_count": 13,
   "id": "130581b2-449c-42d2-909c-d331eb3e44c5",
   "metadata": {},
   "outputs": [
    {
     "name": "stdin",
     "output_type": "stream",
     "text": [
      "Enter your name: Raj\n",
      "Enter your age: 15\n",
      "Enter your School name: Guru School\n",
      "Enter your degree: B.E CSE\n"
     ]
    },
    {
     "name": "stdout",
     "output_type": "stream",
     "text": [
      "Enter your name: Raj\n",
      "Enter your age: 15\n",
      "Enter School name: Guru School\n",
      "Enter your degree: B.E CSE\n"
     ]
    }
   ],
   "source": [
    "name=input(\"Enter your name:\")\n",
    "age=int((input(\"Enter your age:\")))\n",
    "school_name=input(\"Enter your School name:\")\n",
    "degree=input(\"Enter your degree:\")\n",
    "\n",
    "print(\"Enter your name:\",name)\n",
    "print(\"Enter your age:\",age)\n",
    "print(\"Enter School name:\",school_name)\n",
    "print(\"Enter your degree:\",degree)"
   ]
  },
  {
   "cell_type": "code",
   "execution_count": 1,
   "id": "66c4068e-b213-4513-92e5-72130dea7fc1",
   "metadata": {},
   "outputs": [
    {
     "name": "stdout",
     "output_type": "stream",
     "text": [
      "a= 43\n",
      "b= 34\n",
      "add= 77\n"
     ]
    }
   ],
   "source": [
    "#addition\n",
    "a=43\n",
    "b=34\n",
    "add=a+b\n",
    "print(\"a=\",a)\n",
    "print(\"b=\",b)\n",
    "print(\"add=\",add)"
   ]
  },
  {
   "cell_type": "code",
   "execution_count": 2,
   "id": "c0bd87da-da24-4116-9c67-f2e8f39ccca3",
   "metadata": {},
   "outputs": [
    {
     "name": "stdout",
     "output_type": "stream",
     "text": [
      "a= 43\n",
      "b= 34\n",
      "Sub= 9\n"
     ]
    }
   ],
   "source": [
    "#Subtraction\n",
    "a=43\n",
    "b=34\n",
    "Sub=a-b\n",
    "print(\"a=\",a)\n",
    "print(\"b=\",b)\n",
    "print(\"Sub=\",Sub)"
   ]
  },
  {
   "cell_type": "code",
   "execution_count": 3,
   "id": "30921fe4-9727-4344-b371-d7eec3defb3e",
   "metadata": {},
   "outputs": [
    {
     "name": "stdout",
     "output_type": "stream",
     "text": [
      "a= 63\n",
      "b= 97\n",
      "Mul= 6111\n"
     ]
    }
   ],
   "source": [
    "#Multiplication\n",
    "a=63\n",
    "b=97\n",
    "Mul=a*b\n",
    "print(\"a=\",a)\n",
    "print(\"b=\",b)\n",
    "print(\"Mul=\",Mul)"
   ]
  },
  {
   "cell_type": "code",
   "execution_count": 7,
   "id": "64442c6d-b6e8-4d15-8650-6a01b7db840a",
   "metadata": {},
   "outputs": [
    {
     "name": "stdout",
     "output_type": "stream",
     "text": [
      "a= 76\n",
      "b= 31\n",
      "Float Div= 2.4516129032258065\n"
     ]
    }
   ],
   "source": [
    "#Division\n",
    "a=76\n",
    "b=31\n",
    "Float_Div=a/b\n",
    "print(\"a=\",a)\n",
    "print(\"b=\",b)\n",
    "print(\"Float Div=\",Float_Div)"
   ]
  },
  {
   "cell_type": "code",
   "execution_count": 8,
   "id": "10d1beb5-6083-4ddd-8ddf-69140710741c",
   "metadata": {},
   "outputs": [
    {
     "name": "stdout",
     "output_type": "stream",
     "text": [
      "a= 76\n",
      "b= 31\n",
      "Floor Div= 2\n"
     ]
    }
   ],
   "source": [
    "#Floor Division\n",
    "a=76\n",
    "b=31\n",
    "Floor_Div=a//b\n",
    "print(\"a=\",a)\n",
    "print(\"b=\",b)\n",
    "print(\"Floor Div=\",Floor_Div)"
   ]
  },
  {
   "cell_type": "code",
   "execution_count": 10,
   "id": "51250c1a-4be4-4979-b613-f22c5629e000",
   "metadata": {},
   "outputs": [
    {
     "name": "stdout",
     "output_type": "stream",
     "text": [
      "a= 76\n",
      "b= 31\n",
      "Modulo= 14\n"
     ]
    }
   ],
   "source": [
    "#Modulo\n",
    "a=76\n",
    "b=31\n",
    "Modulo=a%b\n",
    "print(\"a=\",a)\n",
    "print(\"b=\",b)\n",
    "print(\"Modulo=\",Modulo)"
   ]
  },
  {
   "cell_type": "code",
   "execution_count": 11,
   "id": "701330ba-5b7b-4e5e-bbe2-825787d00044",
   "metadata": {},
   "outputs": [
    {
     "name": "stdout",
     "output_type": "stream",
     "text": [
      "a= 4\n",
      "b= 4\n",
      "Power= 256\n"
     ]
    }
   ],
   "source": [
    "#power\n",
    "a=4\n",
    "b=4\n",
    "Power=a**b\n",
    "print(\"a=\",a)\n",
    "print(\"b=\",b)\n",
    "print(\"Power=\",Power)\n"
   ]
  },
  {
   "cell_type": "code",
   "execution_count": null,
   "id": "7516d937-d924-4774-9cf6-21e2483e91b4",
   "metadata": {},
   "outputs": [],
   "source": []
  }
 ],
 "metadata": {
  "kernelspec": {
   "display_name": "Python 3 (ipykernel)",
   "language": "python",
   "name": "python3"
  },
  "language_info": {
   "codemirror_mode": {
    "name": "ipython",
    "version": 3
   },
   "file_extension": ".py",
   "mimetype": "text/x-python",
   "name": "python",
   "nbconvert_exporter": "python",
   "pygments_lexer": "ipython3",
   "version": "3.12.7"
  }
 },
 "nbformat": 4,
 "nbformat_minor": 5
}
