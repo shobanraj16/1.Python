{
 "cells": [
  {
   "cell_type": "code",
   "execution_count": 1,
   "id": "beeba5d2-bfd6-443c-825c-21a32ff889d9",
   "metadata": {},
   "outputs": [
    {
     "name": "stdout",
     "output_type": "stream",
     "text": [
      "0\n",
      "1\n",
      "2\n",
      "3\n",
      "4\n",
      "5\n",
      "6\n",
      "7\n",
      "8\n",
      "9\n",
      "10\n",
      "11\n",
      "12\n",
      "13\n",
      "14\n",
      "15\n",
      "16\n",
      "17\n",
      "18\n",
      "19\n"
     ]
    }
   ],
   "source": [
    "#print 0 to 20 by using range\n",
    "for num in range(0,20):\n",
    "    print(num)"
   ]
  },
  {
   "cell_type": "code",
   "execution_count": 72,
   "id": "80f6d278-1573-4b49-b257-1e4868355b5d",
   "metadata": {},
   "outputs": [
    {
     "name": "stdout",
     "output_type": "stream",
     "text": [
      "10 11 12 13 14 15 16 17 18 19 "
     ]
    }
   ],
   "source": [
    "#print range 10 to 20\n",
    "for num in range(10,20):\n",
    "    print(num,end=\" \")"
   ]
  },
  {
   "cell_type": "code",
   "execution_count": 74,
   "id": "268dc2c2-b1b5-4cde-95a6-938bfc13181c",
   "metadata": {},
   "outputs": [
    {
     "name": "stdout",
     "output_type": "stream",
     "text": [
      "[10, 20, 14, 55, 43, 87, 76]\n",
      "Number of item in the List2:\n",
      "7\n"
     ]
    }
   ],
   "source": [
    "# Print number of items in the list by using 'len' \n",
    "list=[10,20,14,55,43,87,76]\n",
    "print(list)\n",
    "print(\"Number of item in the List2:\",len(list),sep=\"\\n\")"
   ]
  },
  {
   "cell_type": "code",
   "execution_count": 48,
   "id": "32abac29-e9d2-4dcc-900e-bdedcee71023",
   "metadata": {},
   "outputs": [
    {
     "name": "stdout",
     "output_type": "stream",
     "text": [
      "Artificial Intelligence\n",
      "A\n",
      "r\n",
      "t\n",
      "i\n",
      "f\n",
      "i\n",
      "c\n",
      "i\n",
      "a\n",
      "l\n",
      " \n",
      "I\n",
      "n\n",
      "t\n",
      "e\n",
      "l\n",
      "l\n",
      "i\n",
      "g\n",
      "e\n",
      "n\n",
      "c\n",
      "e\n"
     ]
    }
   ],
   "source": [
    "string=\"Artificial Intelligence\"\n",
    "print(string)\n",
    "for str in string:\n",
    "    print(str)"
   ]
  },
  {
   "cell_type": "code",
   "execution_count": 51,
   "id": "6da1ebb5-f3c5-495f-bf97-c1cdc9a984e4",
   "metadata": {},
   "outputs": [
    {
     "name": "stdout",
     "output_type": "stream",
     "text": [
      "-Your Name-\n",
      "-Your age-\n",
      "-Your Profession-\n"
     ]
    }
   ],
   "source": [
    "print(\"-Your Name-\")\n",
    "print(\"-Your age-\")\n",
    "print(\"-Your Profession-\")"
   ]
  },
  {
   "cell_type": "code",
   "execution_count": 53,
   "id": "eb381fe1-0e90-4248-96a2-2f04ac718e4c",
   "metadata": {},
   "outputs": [
    {
     "name": "stdout",
     "output_type": "stream",
     "text": [
      "-Your Name- shoban Raj\n",
      "-Your age- 30\n",
      "-Your Profession- Employee\n"
     ]
    }
   ],
   "source": [
    "name=\"shoban Raj\"\n",
    "age=30\n",
    "Profession=\"Employee\"\n",
    "print(\"-Your Name-\",name)\n",
    "print(\"-Your age-\",age)\n",
    "print(\"-Your Profession-\",Profession)"
   ]
  },
  {
   "cell_type": "code",
   "execution_count": 2,
   "id": "39335723-cd08-4da0-b912-8f3f9703447b",
   "metadata": {},
   "outputs": [
    {
     "name": "stdout",
     "output_type": "stream",
     "text": [
      "(1, 'Welcome', 2, 'HOPE')\n"
     ]
    }
   ],
   "source": [
    "# Print yhis mixered datatype using Tuples\n",
    "Tuple=(1,'Welcome',2,'HOPE')\n",
    "print(Tuple)"
   ]
  },
  {
   "cell_type": "code",
   "execution_count": 7,
   "id": "bab37c12-9987-49ba-933b-6992784695d0",
   "metadata": {},
   "outputs": [
    {
     "name": "stdout",
     "output_type": "stream",
     "text": [
      "((0, 1, 2, 3), ('python', 'HOPE'))\n"
     ]
    }
   ],
   "source": [
    "#tuple nested use tuple1=(0,1,2,3)\n",
    "Tuple1=(0,1,2,3)\n",
    "Tuple2=('python','HOPE')\n",
    "print((Tuple1,Tuple2),sep=\",\")"
   ]
  },
  {
   "cell_type": "code",
   "execution_count": 70,
   "id": "4f902ad0-95e6-41e0-a704-ed80f2c0297f",
   "metadata": {},
   "outputs": [
    {
     "name": "stdout",
     "output_type": "stream",
     "text": [
      "(20, 10, 16, 19, 25, 1, 276, 188)\n",
      "19 is odd\n",
      "25 is odd\n",
      "1 is odd\n"
     ]
    }
   ],
   "source": [
    "#print odd numbers in the list\n",
    "num=(20,10,16,19,25,1,276,188)\n",
    "print(num)\n",
    "for val in num:\n",
    "    if((val % 2)==1):\n",
    "        print(val,\"is odd\")"
   ]
  },
  {
   "cell_type": "code",
   "execution_count": 69,
   "id": "f964fdec-62da-4101-82b4-6dc869b91234",
   "metadata": {},
   "outputs": [
    {
     "name": "stdout",
     "output_type": "stream",
     "text": [
      "(20, 10, 16, 19, 25, 1, 276, 188)\n",
      "20 is even\n",
      "10 is even\n",
      "16 is even\n",
      "276 is even\n",
      "188 is even\n"
     ]
    }
   ],
   "source": [
    "#print even numbers in the list\n",
    "num=(20,10,16,19,25,1,276,188)\n",
    "print(num)\n",
    "for val in num:\n",
    "    if((val % 2)==0):\n",
    "        print(val,\"is even\")  "
   ]
  },
  {
   "cell_type": "code",
   "execution_count": null,
   "id": "c03eda84-33d8-4db5-ac49-1c1d91c3acfd",
   "metadata": {},
   "outputs": [],
   "source": []
  }
 ],
 "metadata": {
  "kernelspec": {
   "display_name": "Python 3 (ipykernel)",
   "language": "python",
   "name": "python3"
  },
  "language_info": {
   "codemirror_mode": {
    "name": "ipython",
    "version": 3
   },
   "file_extension": ".py",
   "mimetype": "text/x-python",
   "name": "python",
   "nbconvert_exporter": "python",
   "pygments_lexer": "ipython3",
   "version": "3.12.7"
  }
 },
 "nbformat": 4,
 "nbformat_minor": 5
}
