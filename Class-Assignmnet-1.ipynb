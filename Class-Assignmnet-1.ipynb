{
 "cells": [
  {
   "cell_type": "code",
   "execution_count": 9,
   "id": "ca595936-7272-44a0-b8ec-2d098aeb0bc8",
   "metadata": {},
   "outputs": [],
   "source": [
    "# Create a class and function, and list out the items in the list\n",
    "class subfieldsInAI():\n",
    "    def subfields():\n",
    "        SubfieldsInAI=[\"Machine Learning\",\"Neural Networks\",\"Vision\",\"Robotics\",\"Speech Processing\",\"Natural Language Processing\"]\n",
    "        print(\"Sub-fields in AI are:\")\n",
    "        for fields in SubfieldsInAI:\n",
    "            print(fields)"
   ]
  },
  {
   "cell_type": "code",
   "execution_count": 10,
   "id": "047c49e6-9f6e-4a5d-80b2-22d4438ab532",
   "metadata": {},
   "outputs": [
    {
     "name": "stdout",
     "output_type": "stream",
     "text": [
      "Sub-fields in AI are:\n",
      "Machine Learning\n",
      "Neural Networks\n",
      "Vision\n",
      "Robotics\n",
      "Speech Processing\n",
      "Natural Language Processing\n"
     ]
    }
   ],
   "source": [
    "subfieldsInAI.subfields()"
   ]
  },
  {
   "cell_type": "code",
   "execution_count": 12,
   "id": "877adfcc-41ff-49ea-958e-2627eced8dd6",
   "metadata": {},
   "outputs": [],
   "source": [
    "class OddEven():\n",
    "    def OddEven():\n",
    "        num=int(input(\"Enter the number\"))\n",
    "        print(\"Number entered:\",num)\n",
    "        if((num%2)==0):\n",
    "            print(num ,\"is Even number\")\n",
    "            message=\"is Even number\"\n",
    "        else:\n",
    "            print(num ,\"is Odd number\")\n",
    "            message=\"is Odd number\"\n",
    "        return message\n",
    "    \n"
   ]
  },
  {
   "cell_type": "code",
   "execution_count": 13,
   "id": "ff9f06f6-12ea-4aeb-99f9-07b5143e98e5",
   "metadata": {},
   "outputs": [
    {
     "name": "stdin",
     "output_type": "stream",
     "text": [
      "Enter the number 52452\n"
     ]
    },
    {
     "name": "stdout",
     "output_type": "stream",
     "text": [
      "Number entered: 52452\n",
      "52452 is Even number\n"
     ]
    },
    {
     "data": {
      "text/plain": [
       "'is Even number'"
      ]
     },
     "execution_count": 13,
     "metadata": {},
     "output_type": "execute_result"
    }
   ],
   "source": [
    "OddEven.OddEven()"
   ]
  },
  {
   "cell_type": "code",
   "execution_count": 19,
   "id": "9170d282-f5b5-4dcb-9310-8edcc756c22d",
   "metadata": {},
   "outputs": [],
   "source": [
    "class ElegibilityForMarriage():\n",
    "    def Elegible():\n",
    "        gender=input(\"Enter your Gender:\")\n",
    "        print(\"Your Gender:\",gender)\n",
    "        age=int(input(\"Enter your Age:\"))\n",
    "        print(\"Your Age:\",age)\n",
    "        if(gender==\"Male\"):\n",
    "            if(age>=21):\n",
    "                print(\"Eligible\")\n",
    "                message=\"Eligible\"\n",
    "            else:\n",
    "                print(\"Not Eligible\")\n",
    "                message=\"Eligible\"\n",
    "        elif(gender==\"Female\"):\n",
    "            if(age>=18):\n",
    "                print(\"Eligible\")\n",
    "                message=\"Eligible\"\n",
    "            else:\n",
    "                print(\"Not Eligible\")\n",
    "                message=\"Not Eligible\"\n",
    "        return message\n",
    "       "
   ]
  },
  {
   "cell_type": "code",
   "execution_count": 21,
   "id": "c648682d-078f-492b-a41b-770bc0e370d6",
   "metadata": {},
   "outputs": [
    {
     "name": "stdin",
     "output_type": "stream",
     "text": [
      "Enter your Gender: Male\n"
     ]
    },
    {
     "name": "stdout",
     "output_type": "stream",
     "text": [
      "Your Gender: Male\n"
     ]
    },
    {
     "name": "stdin",
     "output_type": "stream",
     "text": [
      "Enter your Age: 20\n"
     ]
    },
    {
     "name": "stdout",
     "output_type": "stream",
     "text": [
      "Your Age: 20\n",
      "Not Eligible\n"
     ]
    },
    {
     "data": {
      "text/plain": [
       "'Eligible'"
      ]
     },
     "execution_count": 21,
     "metadata": {},
     "output_type": "execute_result"
    }
   ],
   "source": [
    "ElegibilityForMarriage.Elegible()"
   ]
  },
  {
   "cell_type": "code",
   "execution_count": 40,
   "id": "22b9bba0-fd14-477e-aca9-0886cb47ddaf",
   "metadata": {},
   "outputs": [],
   "source": [
    "class triangle():\n",
    "    def triangle():\n",
    "        height=int(input(\"Enter height value:\"))\n",
    "        print(\"Height:\",height)\n",
    "        breadth=int(input(\"Enter breadth value:\"))\n",
    "        print(\"Breadth:\",breadth)\n",
    "        area_triangle=(height*breadth)/2\n",
    "        print(\"Area formula: (Height*Breadth)/2\")\n",
    "        print(\"Area of Triangle:\",area_triangle)\n",
    "        height1=int(input(\"Enter height value:\"))\n",
    "        print(\"Height1:\",height1)\n",
    "        height2=int(input(\"Enter height value:\"))\n",
    "        print(\"Height2:\",height2)\n",
    "        breadth1=int(input(\"Enter breadth value:\"))\n",
    "        print(\"Breadth\",breadth1)\n",
    "        perimeter_triangle=height1+height2+breadth1\n",
    "        print(\"Perimeter formula: Height1+Height2+Breadth\")\n",
    "        print(\"Perimeter of Triangle:\",perimeter_triangle)\n",
    "        return triangle"
   ]
  },
  {
   "cell_type": "code",
   "execution_count": 41,
   "id": "8d7bc644-ed96-47f2-8e27-1746c5cb5f53",
   "metadata": {},
   "outputs": [
    {
     "name": "stdin",
     "output_type": "stream",
     "text": [
      "Enter height value: 32\n"
     ]
    },
    {
     "name": "stdout",
     "output_type": "stream",
     "text": [
      "Height: 32\n"
     ]
    },
    {
     "name": "stdin",
     "output_type": "stream",
     "text": [
      "Enter breadth value: 34\n"
     ]
    },
    {
     "name": "stdout",
     "output_type": "stream",
     "text": [
      "Breadth: 34\n",
      "Area formula: (Height*Breadth)/2\n",
      "Area of Triangle: 544.0\n"
     ]
    },
    {
     "name": "stdin",
     "output_type": "stream",
     "text": [
      "Enter height value: 2\n"
     ]
    },
    {
     "name": "stdout",
     "output_type": "stream",
     "text": [
      "Height1: 2\n"
     ]
    },
    {
     "name": "stdin",
     "output_type": "stream",
     "text": [
      "Enter height value: 4\n"
     ]
    },
    {
     "name": "stdout",
     "output_type": "stream",
     "text": [
      "Height2: 4\n"
     ]
    },
    {
     "name": "stdin",
     "output_type": "stream",
     "text": [
      "Enter breadth value: 4\n"
     ]
    },
    {
     "name": "stdout",
     "output_type": "stream",
     "text": [
      "Breadth 4\n",
      "Perimeter formula: Height1+Height2+Breadth\n",
      "Perimeter of Triangle: 10\n"
     ]
    },
    {
     "data": {
      "text/plain": [
       "__main__.triangle"
      ]
     },
     "execution_count": 41,
     "metadata": {},
     "output_type": "execute_result"
    }
   ],
   "source": [
    "triangle.triangle()"
   ]
  },
  {
   "cell_type": "code",
   "execution_count": 48,
   "id": "8fc08592-6ad2-46c7-9a49-094f690565c0",
   "metadata": {},
   "outputs": [],
   "source": [
    "class FindPercent():\n",
    "    def percentage():\n",
    "        sub1=int(input(\"Enter Mark for the subject1:\"))\n",
    "        print(\"Subject1=\",sub1)\n",
    "        sub2=int(input(\"Enter Mark for the subject2:\"))\n",
    "        print(\"Subject2=\",sub2)\n",
    "        sub3=int(input(\"Enter Mark for the subject3:\"))\n",
    "        print(\"Subject3=\",sub3)\n",
    "        sub4=int(input(\"Enter Mark for the subject4:\"))\n",
    "        print(\"Subject4=\",sub4)\n",
    "        sub5=int(input(\"Enter Mark for the subject5:\"))\n",
    "        print(\"Subject5=\",sub5)\n",
    "        Total=sub1+sub2+sub3+sub4+sub5\n",
    "        print(\"Total:\",Total)\n",
    "        Percentage=(Total/500)*100\n",
    "        print(\"Percentage:\",Percentage)\n",
    "        "
   ]
  },
  {
   "cell_type": "code",
   "execution_count": 49,
   "id": "86da9e35-64ff-41bb-88f0-e5e9e4a11aa2",
   "metadata": {},
   "outputs": [
    {
     "name": "stdin",
     "output_type": "stream",
     "text": [
      "Enter Mark for the subject1: 98\n"
     ]
    },
    {
     "name": "stdout",
     "output_type": "stream",
     "text": [
      "Subject1= 98\n"
     ]
    },
    {
     "name": "stdin",
     "output_type": "stream",
     "text": [
      "Enter Mark for the subject2: 87\n"
     ]
    },
    {
     "name": "stdout",
     "output_type": "stream",
     "text": [
      "Subject2= 87\n"
     ]
    },
    {
     "name": "stdin",
     "output_type": "stream",
     "text": [
      "Enter Mark for the subject3: 95\n"
     ]
    },
    {
     "name": "stdout",
     "output_type": "stream",
     "text": [
      "Subject3= 95\n"
     ]
    },
    {
     "name": "stdin",
     "output_type": "stream",
     "text": [
      "Enter Mark for the subject4: 95\n"
     ]
    },
    {
     "name": "stdout",
     "output_type": "stream",
     "text": [
      "Subject4= 95\n"
     ]
    },
    {
     "name": "stdin",
     "output_type": "stream",
     "text": [
      "Enter Mark for the subject5: 93\n"
     ]
    },
    {
     "name": "stdout",
     "output_type": "stream",
     "text": [
      "Subject5= 93\n",
      "Total: 468\n",
      "Percentage: 93.60000000000001\n"
     ]
    }
   ],
   "source": [
    "FindPercent.percentage()"
   ]
  },
  {
   "cell_type": "code",
   "execution_count": null,
   "id": "126375d4-9dd7-4f8b-afa4-6e47a0fa2510",
   "metadata": {},
   "outputs": [],
   "source": []
  }
 ],
 "metadata": {
  "kernelspec": {
   "display_name": "Python 3 (ipykernel)",
   "language": "python",
   "name": "python3"
  },
  "language_info": {
   "codemirror_mode": {
    "name": "ipython",
    "version": 3
   },
   "file_extension": ".py",
   "mimetype": "text/x-python",
   "name": "python",
   "nbconvert_exporter": "python",
   "pygments_lexer": "ipython3",
   "version": "3.12.7"
  }
 },
 "nbformat": 4,
 "nbformat_minor": 5
}
