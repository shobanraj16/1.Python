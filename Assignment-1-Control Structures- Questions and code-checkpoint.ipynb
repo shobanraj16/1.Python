{
 "cells": [
  {
   "cell_type": "code",
   "execution_count": null,
   "id": "0635e154-caa9-44ca-bcd5-619287a49b67",
   "metadata": {},
   "outputs": [],
   "source": [
    "#output- print the given sentence- Welcome to Assignment-1"
   ]
  },
  {
   "cell_type": "code",
   "execution_count": 1,
   "id": "6ec5f349-0d70-4c0e-bf50-5cea7a1e0ff4",
   "metadata": {},
   "outputs": [
    {
     "name": "stdout",
     "output_type": "stream",
     "text": [
      "Welcome to Assignment-1\n"
     ]
    }
   ],
   "source": [
    "print(\"Welcome to Assignment-1\")"
   ]
  },
  {
   "cell_type": "code",
   "execution_count": null,
   "id": "419852f6-314b-473b-ba36-f3c046f0bf9e",
   "metadata": {},
   "outputs": [],
   "source": [
    "#output-Add number given below as output\n",
    "#Num1=10\n",
    "#Num2=30\n",
    "#Add=40"
   ]
  },
  {
   "cell_type": "code",
   "execution_count": 7,
   "id": "55036553-0296-4cb4-9380-65badf26f5a0",
   "metadata": {},
   "outputs": [
    {
     "name": "stdout",
     "output_type": "stream",
     "text": [
      "Num1= 10\n",
      "Num2= 30\n",
      "Add= 40\n"
     ]
    }
   ],
   "source": [
    "Num1=10\n",
    "Num2=30\n",
    "Add=Num1+Num2\n",
    "print(\"Num1=\",Num1)\n",
    "print(\"Num2=\",Num2)\n",
    "print(\"Add=\",Add)"
   ]
  },
  {
   "cell_type": "code",
   "execution_count": 25,
   "id": "13cc8e05-efa8-4d9a-8de2-e1e144918109",
   "metadata": {},
   "outputs": [
    {
     "name": "stdin",
     "output_type": "stream",
     "text": [
      "Num1= 10\n",
      "Num2= 30\n"
     ]
    },
    {
     "name": "stdout",
     "output_type": "stream",
     "text": [
      "Num1= 10\n",
      "Num2= 30\n",
      "Add= 40\n"
     ]
    }
   ],
   "source": [
    "#input method\n",
    "Num1=int(input(\"Num1=\"))\n",
    "Num2=int(input(\"Num2=\"))\n",
    "Add=Num1+Num2\n",
    "print(\"Num1=\",Num1)\n",
    "print(\"Num2=\",Num2)\n",
    "print(\"Add=\",Add)"
   ]
  },
  {
   "cell_type": "code",
   "execution_count": null,
   "id": "2d49022e-07a5-4c40-9abc-5eecbe6b629d",
   "metadata": {},
   "outputs": [],
   "source": [
    "#Body Mass Index- Output\n",
    "#Enter the BMI Index:34\n",
    "#Very Overweight"
   ]
  },
  {
   "cell_type": "code",
   "execution_count": 30,
   "id": "ccfea776-e9c4-4728-b9a9-5cdc73578e98",
   "metadata": {},
   "outputs": [
    {
     "name": "stdin",
     "output_type": "stream",
     "text": [
      "Enter the BMI Index: 34\n"
     ]
    },
    {
     "name": "stdout",
     "output_type": "stream",
     "text": [
      "Enter the BMI Index: 34\n",
      "Very Overweight\n"
     ]
    }
   ],
   "source": [
    "BMI=int(input(\"Enter the BMI Index:\"))\n",
    "print(\"Enter the BMI Index:\",BMI)\n",
    "if(BMI<35):\n",
    "    print(\"Very Overweight\")\n",
    "\n",
    "\n",
    "       "
   ]
  },
  {
   "cell_type": "code",
   "execution_count": null,
   "id": "d966cd36-1205-45ef-9e8c-2f9d2daaee31",
   "metadata": {},
   "outputs": [],
   "source": []
  }
 ],
 "metadata": {
  "kernelspec": {
   "display_name": "Python 3 (ipykernel)",
   "language": "python",
   "name": "python3"
  },
  "language_info": {
   "codemirror_mode": {
    "name": "ipython",
    "version": 3
   },
   "file_extension": ".py",
   "mimetype": "text/x-python",
   "name": "python",
   "nbconvert_exporter": "python",
   "pygments_lexer": "ipython3",
   "version": "3.12.7"
  }
 },
 "nbformat": 4,
 "nbformat_minor": 5
}
