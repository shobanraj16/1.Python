{
 "cells": [
  {
   "cell_type": "code",
   "execution_count": 12,
   "id": "d45e3ee9-322a-4e0d-9c4b-24cf3d8de348",
   "metadata": {},
   "outputs": [],
   "source": [
    "# Create a class and function, and list out the items in the list\n",
    "def Subfield():\n",
    "    SubfieldsInAI=[\"Machine Learning\",\"Neural Networks\",\"Vision\",\"Robotics\",\"Speech Processing\",\"Natural Language Processing\"]\n",
    "    print(\"Sub-fields in AI are:\")\n",
    "    for fields in SubfieldsInAI:\n",
    "        print(fields)\n",
    "        \n",
    "                "
   ]
  },
  {
   "cell_type": "code",
   "execution_count": 41,
   "id": "719c7775-006d-4af0-80b1-22f4be3808b3",
   "metadata": {},
   "outputs": [
    {
     "name": "stdout",
     "output_type": "stream",
     "text": [
      "Sub-fields in AI are:\n",
      "Machine Learning\n",
      "Neural Networks\n",
      "Vision\n",
      "Robotics\n",
      "Speech Processing\n",
      "Natural Language Processing\n"
     ]
    }
   ],
   "source": [
    "SubfieldsInAI=Subfield()"
   ]
  },
  {
   "cell_type": "code",
   "execution_count": 42,
   "id": "3f31d213-1d62-4305-a5d1-22b38119e21d",
   "metadata": {},
   "outputs": [],
   "source": [
    "# Create a function that checks whether the given number is Odd or Even\n",
    "def OddEven():\n",
    "    num=int(input(\"Enter the number\"))\n",
    "    print(\"Number entered:\",num)\n",
    "    if((num%2)==0):\n",
    "        print(num ,\"is Even number\")\n",
    "        message=\"is Even number\"\n",
    "    else:\n",
    "        print(num ,\"is Even number\")\n",
    "        message=\"is Odd number\"\n",
    "    return message\n",
    "        "
   ]
  },
  {
   "cell_type": "code",
   "execution_count": 43,
   "id": "b0d88b61-3d63-4e8a-8d0b-37a64a1dc026",
   "metadata": {},
   "outputs": [
    {
     "name": "stdin",
     "output_type": "stream",
     "text": [
      "Enter the number 52452\n"
     ]
    },
    {
     "name": "stdout",
     "output_type": "stream",
     "text": [
      "Number entered: 52452\n",
      "52452 is Even number\n"
     ]
    }
   ],
   "source": [
    "OddEven=OddEven()"
   ]
  },
  {
   "cell_type": "code",
   "execution_count": 24,
   "id": "bc75d85e-5103-4008-821b-a9377aeb614b",
   "metadata": {},
   "outputs": [],
   "source": [
    "# Create a function that tells elegibility of marriage for male and female according to their age limit like 21 for male and 18 for female\n",
    "def Elegible():\n",
    "    gender=input(\"Enter your Gender:\")\n",
    "    print(\"Your Gender:\",gender)\n",
    "    age=int(input(\"Enter your Age:\"))\n",
    "    print(\"Your Age:\",age)\n",
    "    \n",
    "    if(gender==\"Male\"):\n",
    "        if(age>=21):\n",
    "            print(\"Eligible\")\n",
    "            message=\"Eligible\"\n",
    "        else:\n",
    "            print(\"Not Eligible\")\n",
    "            message=\"Eligible\"\n",
    "    elif(gender==\"Female\"):\n",
    "          if(age>=18):\n",
    "              print(\"Eligible\")\n",
    "              message=\"Eligible\"\n",
    "          else:\n",
    "             print(\"Eligible\")\n",
    "             message=\"Eligible\"       \n",
    "    return message     "
   ]
  },
  {
   "cell_type": "code",
   "execution_count": 25,
   "id": "091d6613-3da3-48f7-a77a-b49ff1268a32",
   "metadata": {},
   "outputs": [
    {
     "name": "stdin",
     "output_type": "stream",
     "text": [
      "Enter your Gender: Male\n"
     ]
    },
    {
     "name": "stdout",
     "output_type": "stream",
     "text": [
      "Your Gender: Male\n"
     ]
    },
    {
     "name": "stdin",
     "output_type": "stream",
     "text": [
      "Enter your Age: 20\n"
     ]
    },
    {
     "name": "stdout",
     "output_type": "stream",
     "text": [
      "Your Age: 20\n",
      "Not Eligible\n"
     ]
    }
   ],
   "source": [
    "ElegibilityForMarriage=Elegible()"
   ]
  },
  {
   "cell_type": "code",
   "execution_count": 17,
   "id": "36df6210-a23a-4338-8159-e03b39592f08",
   "metadata": {},
   "outputs": [],
   "source": [
    "# calculate the percentage of your 10th mark\n",
    "def percentage():\n",
    "    sub1=int(input(\"Enter Mark for the subject1:\"))\n",
    "    print(\"Subject1=\",sub1)\n",
    "    sub2=int(input(\"Enter Mark for the subject2:\"))\n",
    "    print(\"Subject2=\",sub2)\n",
    "    sub3=int(input(\"Enter Mark for the subject3:\"))\n",
    "    print(\"Subject3=\",sub3)\n",
    "    sub4=int(input(\"Enter Mark for the subject4:\"))\n",
    "    print(\"Subject4=\",sub4)\n",
    "    sub5=int(input(\"Enter Mark for the subject5:\"))\n",
    "    print(\"Subject5=\",sub5)\n",
    "    Total=sub1+sub2+sub3+sub4+sub5\n",
    "    print(\"Total:\",Total)\n",
    "    Percentage=(Total/500)*100\n",
    "    print(\"Percentage:\",Percentage)\n",
    "    return percentage\n",
    "\n",
    "   "
   ]
  },
  {
   "cell_type": "code",
   "execution_count": 18,
   "id": "fe869ee3-b3a7-40a0-bce8-c9fb88026f1b",
   "metadata": {},
   "outputs": [
    {
     "name": "stdin",
     "output_type": "stream",
     "text": [
      "Enter Mark for the subject1: 98\n"
     ]
    },
    {
     "name": "stdout",
     "output_type": "stream",
     "text": [
      "Subject1= 98\n"
     ]
    },
    {
     "name": "stdin",
     "output_type": "stream",
     "text": [
      "Enter Mark for the subject2: 87\n"
     ]
    },
    {
     "name": "stdout",
     "output_type": "stream",
     "text": [
      "Subject2= 87\n"
     ]
    },
    {
     "name": "stdin",
     "output_type": "stream",
     "text": [
      "Enter Mark for the subject3: 95\n"
     ]
    },
    {
     "name": "stdout",
     "output_type": "stream",
     "text": [
      "Subject3= 95\n"
     ]
    },
    {
     "name": "stdin",
     "output_type": "stream",
     "text": [
      "Enter Mark for the subject4: 95\n"
     ]
    },
    {
     "name": "stdout",
     "output_type": "stream",
     "text": [
      "Subject4= 95\n"
     ]
    },
    {
     "name": "stdin",
     "output_type": "stream",
     "text": [
      "Enter Mark for the subject5: 93\n"
     ]
    },
    {
     "name": "stdout",
     "output_type": "stream",
     "text": [
      "Subject5= 93\n",
      "Total: 468\n",
      "Percentage: 93.60000000000001\n"
     ]
    }
   ],
   "source": [
    "FindPercent=percentage()"
   ]
  },
  {
   "cell_type": "code",
   "execution_count": 2,
   "id": "868d8ea2-7315-4cb9-9e2f-47518642b61f",
   "metadata": {},
   "outputs": [],
   "source": [
    "#print area and perimeter of triangle using class and functions\n",
    "def triangle():\n",
    "    height=int(input(\"Enter height value:\"))\n",
    "    print(\"Height:\",height)\n",
    "    breadth=int(input(\"Enter breadth value:\"))\n",
    "    print(\"Breadth:\",breadth)\n",
    "    area_triangle=(height*breadth)/2\n",
    "    print(\"Area formula: (Height*Breadth)/2\")\n",
    "    print(\"Area of Triangle:\",area_triangle)\n",
    "    height1=int(input(\"Enter height value:\"))\n",
    "    print(\"Height1:\",height1)\n",
    "    height2=int(input(\"Enter height value:\"))\n",
    "    print(\"Height2:\",height2)\n",
    "    breadth1=int(input(\"Enter breadth value:\"))\n",
    "    print(\"Breadth\",breadth1)\n",
    "    perimeter_triangle=height1+height2+breadth1\n",
    "    print(\"Perimeter formula: Height1+Height2+Breadth\")\n",
    "    print(\"Perimeter of Triangle:\",perimeter_triangle)\n",
    "    return triangle\n",
    "    \n"
   ]
  },
  {
   "cell_type": "code",
   "execution_count": 3,
   "id": "2da41f4d-fd3e-4da6-aa11-03bcec0bf042",
   "metadata": {},
   "outputs": [
    {
     "name": "stdin",
     "output_type": "stream",
     "text": [
      "Enter height value: 3\n"
     ]
    },
    {
     "name": "stdout",
     "output_type": "stream",
     "text": [
      "Height: 3\n"
     ]
    },
    {
     "name": "stdin",
     "output_type": "stream",
     "text": [
      "Enter breadth value: 4\n"
     ]
    },
    {
     "name": "stdout",
     "output_type": "stream",
     "text": [
      "Breadth: 4\n",
      "Area formula: (Height*Breadth)/2\n",
      "Area of Triangle: 6.0\n"
     ]
    },
    {
     "name": "stdin",
     "output_type": "stream",
     "text": [
      "Enter height value: 3\n"
     ]
    },
    {
     "name": "stdout",
     "output_type": "stream",
     "text": [
      "Height1: 3\n"
     ]
    },
    {
     "name": "stdin",
     "output_type": "stream",
     "text": [
      "Enter height value: 4\n"
     ]
    },
    {
     "name": "stdout",
     "output_type": "stream",
     "text": [
      "Height2: 4\n"
     ]
    },
    {
     "name": "stdin",
     "output_type": "stream",
     "text": [
      "Enter breadth value: 45\n"
     ]
    },
    {
     "name": "stdout",
     "output_type": "stream",
     "text": [
      "Breadth 45\n",
      "Perimeter formula: Height1+Height2+Breadth\n",
      "Perimeter of Triangle: 52\n"
     ]
    }
   ],
   "source": [
    "triangle=triangle()"
   ]
  },
  {
   "cell_type": "code",
   "execution_count": null,
   "id": "03c2a9f6-d7e8-4055-be50-c3c8ad38ad00",
   "metadata": {},
   "outputs": [],
   "source": []
  }
 ],
 "metadata": {
  "kernelspec": {
   "display_name": "Python 3 (ipykernel)",
   "language": "python",
   "name": "python3"
  },
  "language_info": {
   "codemirror_mode": {
    "name": "ipython",
    "version": 3
   },
   "file_extension": ".py",
   "mimetype": "text/x-python",
   "name": "python",
   "nbconvert_exporter": "python",
   "pygments_lexer": "ipython3",
   "version": "3.12.7"
  }
 },
 "nbformat": 4,
 "nbformat_minor": 5
}
